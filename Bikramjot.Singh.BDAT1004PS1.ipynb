{
 "cells": [
  {
   "cell_type": "markdown",
   "id": "8841f499",
   "metadata": {},
   "source": [
    "Q1. What data type is each of the following (evaluate where necessary)?\n",
    "5\n",
    "\n",
    "5.0\n",
    "\n",
    "5 > 1\n",
    "\n",
    "'5'\n",
    "\n",
    "5 * 2\n",
    "\n",
    "'5' * 2\n",
    "\n",
    "'5' + '2'\n",
    "\n",
    "5 / 2\n",
    "\n",
    "5 % 2\n",
    "\n",
    "{5, 2, 1}\n",
    "\n",
    "5 == 3\n",
    "\n",
    "Pi (the number)"
   ]
  },
  {
   "cell_type": "code",
   "execution_count": 4,
   "id": "75f1ffaf",
   "metadata": {},
   "outputs": [
    {
     "name": "stdout",
     "output_type": "stream",
     "text": [
      "<class 'int'>\n",
      "<class 'float'>\n",
      "<class 'bool'>\n",
      "<class 'str'>\n",
      "<class 'int'>\n",
      "<class 'str'>\n",
      "<class 'str'>\n",
      "<class 'float'>\n",
      "<class 'int'>\n",
      "<class 'set'>\n",
      "<class 'bool'>\n",
      "<class 'float'>\n"
     ]
    }
   ],
   "source": [
    "print(type(5))\n",
    "print(type(5.0))\n",
    "print(type(5 > 1))\n",
    "print(type('5'))\n",
    "print(type(5 * 2))\n",
    "print(type('5' * 2))\n",
    "print(type('5' + '2'))\n",
    "print(type(5/2))\n",
    "print(type(5 % 2))\n",
    "print(type({5, 2, 1}))\n",
    "print(type(5 == 3))\n",
    "Pi=3.14\n",
    "print(type(Pi))"
   ]
  },
  {
   "cell_type": "markdown",
   "id": "cf0975b9",
   "metadata": {},
   "source": [
    "Q2. Write (and evaluate) python expressions that answer these questions:\n",
    "\n",
    "a. How many letters are there in 'Supercalifragilisticexpialidocious'?\n",
    "b. Does 'Supercalifragilisticexpialidocious' contain 'ice' as a substring?\n",
    "c. Which of the following words is the longest:\n",
    "Supercalifragilisticexpialidocious, Honorificabilitudinitatibus, or\n",
    "Bababadalgharaghtakamminarronnkonn?\n",
    "d. Which composer comes first in the dictionary: 'Berlioz', 'Borodin', 'Brian',\n",
    "'Bartok', 'Bellini', 'Buxtehude', 'Bernstein'. Which one comes last?"
   ]
  },
  {
   "cell_type": "code",
   "execution_count": 3,
   "id": "1dc3e1bc",
   "metadata": {},
   "outputs": [
    {
     "name": "stdout",
     "output_type": "stream",
     "text": [
      "Length of the string is  34\n",
      "Yes ice is present in the string\n",
      "The largest string is  Supercalifragilisticexpialidocious\n",
      " \n",
      "Words arranged alphabetically, as in a dictionary are:  ['Bartok', 'Bellini', 'Berlioz', 'Bernstein', 'Borodin', 'Brian', 'Buxtehude']\n",
      "First composer in the dictionary is Bartok\n",
      "Last composer in the dictionary is Buxtehude\n"
     ]
    }
   ],
   "source": [
    "string1 = 'Supercalifragilisticexpialidocious'\n",
    "string2 = 'Honorificabilitudinitatibus'\n",
    "string3 = 'Bababadalgharaghtakamminarronnkonn'\n",
    "print('Length of the string is ' , len(string1))\n",
    "if string1.find('ice') > 0 :\n",
    "    print('Yes ice is present in the string')\n",
    "else:\n",
    "    print('no string does not contain ice in it')\n",
    "largest_string = max(string1,string2,string3)\n",
    "print(\"The largest string is \",(largest_string))\n",
    "print(\" \")\n",
    "words = ['Berlioz', 'Borodin', 'Brian', 'Bartok', 'Bellini', 'Buxtehude', 'Bernstein']\n",
    "words.sort()\n",
    "print('Words arranged alphabetically, as in a dictionary are: ' , words)\n",
    "print(\"First composer in the dictionary is\", words[0])\n",
    "print (\"Last composer in the dictionary is\",words[-1])\n"
   ]
  },
  {
   "cell_type": "markdown",
   "id": "87f18ba9",
   "metadata": {},
   "source": [
    "Q3. Implement function triangleArea(a,b,c) that takes as input the lengths of the 3 sides of a triangle and returns the area of the triangle. By Heron's formula, the area of a triangle with side lengths a, b, and c is s(s - a)(s -b)(s -c) , where s = (a+b+c)/2"
   ]
  },
  {
   "cell_type": "code",
   "execution_count": 1,
   "id": "1f3286e7",
   "metadata": {},
   "outputs": [
    {
     "name": "stdout",
     "output_type": "stream",
     "text": [
      "Please enter the lengths of sides a, b and c of the traingle\n",
      "Enter length of side  \"a\":2\n",
      "Enter lenght of side \"b\":2\n",
      "Enter length of side \"c\":2\n",
      "Area of Traingle is:  1.7320508075688772\n"
     ]
    }
   ],
   "source": [
    "import math\n",
    "a, b, c, s = 0.0, 0.0, 0.0, 0.0\n",
    "print('Please enter the lengths of sides a, b and c of the traingle')\n",
    "a, b, c = float(input('Enter length of side  \"a\":')), float(input('Enter lenght of side \"b\":')), float(input('Enter length of side \"c\":'))\n",
    "s = (a+b+c)/2\n",
    "def triangleArea(a,b,c,s):\n",
    "    area = math.sqrt(s*(s-a)*(s-b)*(s-c))\n",
    "    return area\n",
    "print('Area of Traingle is: ', triangleArea(a,b,c,s))\n"
   ]
  },
  {
   "cell_type": "markdown",
   "id": "dd21575f",
   "metadata": {},
   "source": [
    "Q4. Write a program in python to separate odd and even integers in separate arrays. Go\n",
    "to the editor\n",
    "Test Data :\n",
    "Input the number of elements to be stored in the array :5\n",
    "Input 5 elements in the array :\n",
    "element - 0 : 25\n",
    "element - 1 : 47\n",
    "element - 2 : 42\n",
    "element - 3 : 56\n",
    "element - 4 : 32\n",
    "Expected Output:\n",
    "The Even elements are:\n",
    "42 56 32\n",
    "The Odd elements are :\n",
    "25 47"
   ]
  },
  {
   "cell_type": "code",
   "execution_count": 6,
   "id": "aeb56cf4",
   "metadata": {},
   "outputs": [
    {
     "name": "stdout",
     "output_type": "stream",
     "text": [
      "Enter 5 elements in the Array: \n",
      "element-0:25\n",
      "element-1:47\n",
      "element-2:42\n",
      "element-3:56\n",
      "element-4:32\n",
      "Even elements are:\n",
      "42\n",
      "56\n",
      "32\n",
      "Odd elements are:\n",
      "25\n",
      "47\n"
     ]
    }
   ],
   "source": [
    "a = [0,0,0,0,0]\n",
    "evenArray = []\n",
    "oddArray = []\n",
    "print('Enter 5 elements in the Array: ')\n",
    "a[0]=input('element-0:')\n",
    "a[1]=input('element-1:') \n",
    "a[2]=input('element-2:') \n",
    "a[3]=input('element-3:') \n",
    "a[4]=input('element-4:') \n",
    "for i in a:\n",
    "    if (int(i)%2 == 0):\n",
    "        evenArray.append(i)\n",
    "    else:\n",
    "        oddArray.append(i)\n",
    "print('Even elements are:')\n",
    "for j in evenArray:\n",
    "    print(j)\n",
    "print('Odd elements are:')\n",
    "for k in oddArray:\n",
    "    print(k)\n"
   ]
  },
  {
   "cell_type": "markdown",
   "id": "dadc946d",
   "metadata": {},
   "source": [
    "Q5. a. Write a function inside(x,y,x1,y1,x2,y2) that returns True or False\n",
    "depending on whether the point (x,y) lies in the rectangle with lower left\n",
    "corner (x1,y1) and upper right corner (x2,y2).\n",
    "\">>> inside(1,1,0,0,2,3)\n",
    "True\n",
    "\">>> inside(-1,-1,0,0,2,3)\n",
    "False\n",
    "\n",
    "b. Use function inside() from part a. to write an expression that tests whether\n",
    "the point (1,1) lies in both of the following rectangles: one with lower left\n",
    "corner (0.3, 0.5) and upper right corner (1.1, 0.7) and the other with lower\n",
    "left corner (0.5, 0.2) and upper right corner (1.1, 2)."
   ]
  },
  {
   "cell_type": "code",
   "execution_count": 13,
   "id": "a24f0332",
   "metadata": {},
   "outputs": [
    {
     "name": "stdout",
     "output_type": "stream",
     "text": [
      "True\n",
      "False\n",
      " \n",
      "B part\n",
      " \n",
      "False\n",
      "True\n"
     ]
    }
   ],
   "source": [
    "def inside(x,y,x1,y1,x2,y2):\n",
    "    if((x>x1 and x<x2) and (y>y1 and y<y2)):\n",
    "        return True\n",
    "    else:\n",
    "        return False \n",
    "print (inside(1,1,0,0,2,3))\n",
    "print (inside(-1,-1,0,0,2,3))\n",
    "print(\" \")\n",
    "print(\"B part\")\n",
    "print (\" \")\n",
    "print (inside(1,1,0.3,0.5,1.1,0.7))\n",
    "print (inside(1,1,0.5,0.3,1.1,2))\n"
   ]
  },
  {
   "cell_type": "markdown",
   "id": "3b62f4e4",
   "metadata": {},
   "source": [
    "Q6. You can turn a word into pig-Latin using the following two rules (simplified):\n",
    "• If the word starts with a consonant, move that letter to the end and append\n",
    "'ay'. For example, 'happy' becomes 'appyhay' and 'pencil' becomes 'encilpay'.\n",
    "• If the word starts with a vowel, simply append 'way' to the end of the word.\n",
    "For example, 'enter' becomes 'enterway' and 'other' becomes 'otherway' . For\n",
    "our purposes, there are 5 vowels: a, e, i, o, u (so we count y as a consonant).\n",
    "Write a function pig() that takes a word (i.e., a string) as input and returns its pigLatin form. Your function should still work if the input word contains upper case\n",
    "characters. Your output should always be lower case however.\n",
    ">>> pig('happy')\n",
    "'appyhay'\n",
    ">>> pig('Enter')\n",
    "'enterway' "
   ]
  },
  {
   "cell_type": "code",
   "execution_count": 24,
   "id": "3bfbb588",
   "metadata": {},
   "outputs": [
    {
     "name": "stdout",
     "output_type": "stream",
     "text": [
      "appyhay\n",
      "enterway\n"
     ]
    }
   ],
   "source": [
    "def pig(word):\n",
    "    vowels = ['a' , 'e' , 'i' , 'o' , 'u']\n",
    "    word = word.lower()\n",
    "    if(word[0] in vowels):\n",
    "        word = word+'way'\n",
    "        print (word)\n",
    "    else:\n",
    "        word = word[1:]+word[0]+'ay'\n",
    "        print (word)\n",
    "pig('happy')\n",
    "pig('Enter')"
   ]
  },
  {
   "cell_type": "markdown",
   "id": "02846b9c",
   "metadata": {},
   "source": [
    "Q7. File bloodtype1.txt records blood-types of patients (A, B, AB, O or OO) at a clinic.\n",
    "Write a function bldcount() that reads the file with name name and reports (i.e.,\n",
    "prints) how many patients there are in each bloodtype.\n",
    ">>> bldcount('bloodtype.txt')\n",
    "There are 10 patients of blood type A.\n",
    "There is one patient of blood type B.\n",
    "There are 10 patients of blood type AB.\n",
    "There are 12 patients of blood type O.\n",
    "There are no patients of blood type OO."
   ]
  },
  {
   "cell_type": "code",
   "execution_count": 37,
   "id": "0cb7ceff",
   "metadata": {},
   "outputs": [
    {
     "name": "stdout",
     "output_type": "stream",
     "text": [
      "There are  15 patients with blood group A\n",
      "There are  1 patients with blood group B\n",
      "There are  13 patients with blood group AB\n",
      "There are  15 patients with blood group O\n",
      "There are  0 patients with blood group OO\n"
     ]
    }
   ],
   "source": [
    "def bloodcount(filename):\n",
    "    infile = open(filename, 'r')\n",
    "    filetxt = infile.read()\n",
    "    bloodgrps = filetxt.split(' ')\n",
    "    print('There are ', bloodgrps.count('A') , 'patients with blood group A')\n",
    "    print('There are ', bloodgrps.count('B') , 'patients with blood group B')\n",
    "    print('There are ', bloodgrps.count('AB') , 'patients with blood group AB')\n",
    "    print('There are ', bloodgrps.count('O') , 'patients with blood group O')\n",
    "    print('There are ', bloodgrps.count('OO') , 'patients with blood group OO')\n",
    "bloodcount('bloodtype1.txt')"
   ]
  },
  {
   "cell_type": "markdown",
   "id": "e4229852",
   "metadata": {},
   "source": [
    "Q8. Write a function curconv() that takes as input:\n",
    "1. a currency represented using a string (e.g., 'JPY' for the Japanese Yen or\n",
    "'EUR' for the Euro)\n",
    "2. an amount\n",
    "and then converts and returns the amount in US dollars.\n",
    ">>> curconv('EUR', 100)\n",
    "122.96544\n",
    ">>> curconv('JPY', 100)\n",
    "1.241401"
   ]
  },
  {
   "cell_type": "code",
   "execution_count": 27,
   "id": "eaf959ff",
   "metadata": {},
   "outputs": [
    {
     "name": "stdout",
     "output_type": "stream",
     "text": [
      "122.96544\n",
      "1.241401\n"
     ]
    }
   ],
   "source": [
    "infile = open('currencies.txt','r')\n",
    "currencylist= infile.readlines()\n",
    "new_text=[]\n",
    "dictionary={}\n",
    "for text in currencylist:\n",
    "    new_text.append(text.replace('\\t',' ').split(' '))\n",
    "\n",
    "for text1 in new_text:\n",
    "    dictionary[text1[0]]=float(text1[1])\n",
    "\n",
    "def curconv(countrycode, amount):\n",
    "    amount_in_US_Dollar = amount*dictionary[countrycode]\n",
    "    print(amount_in_US_Dollar)\n",
    "\n",
    "curconv('EUR',100)\n",
    "curconv('JPY',100)"
   ]
  },
  {
   "cell_type": "markdown",
   "id": "de3e3855",
   "metadata": {},
   "source": [
    "Q9. Each of the following will cause an exception (an error). Identify what type of\n",
    "exception each will cause.\n",
    "Trying to add incompatible variables, as in\n",
    "adding 6 + ‘a’\n",
    "Referring to the 12th item of a list that has only 10\n",
    "items\n",
    "Using a value that is out of range for a function’s\n",
    "input, such as calling math.sqrt(-1.0)\n",
    "Using an undeclared variable, such as print(x)\n",
    "when x has not been defined\n",
    "Trying to open a file that does not exist, such as\n",
    "mistyping the file name or looking in the wrong\n",
    "directory"
   ]
  },
  {
   "cell_type": "code",
   "execution_count": 31,
   "id": "f2fceeba",
   "metadata": {},
   "outputs": [
    {
     "ename": "SyntaxError",
     "evalue": "illegal target for annotation (257680950.py, line 1)",
     "output_type": "error",
     "traceback": [
      "\u001b[1;36m  Cell \u001b[1;32mIn[31], line 1\u001b[1;36m\u001b[0m\n\u001b[1;33m    print(6 +'a')// Exception : supported operand type(s) for +: 'int' and 'str'\u001b[0m\n\u001b[1;37m    ^\u001b[0m\n\u001b[1;31mSyntaxError\u001b[0m\u001b[1;31m:\u001b[0m illegal target for annotation\n"
     ]
    }
   ],
   "source": [
    "print(6 +'a')// Exception : supported operand type(s) for +: 'int' and 'str'\n",
    "list = [1,2,3,4,5,6,7,8,9,10]\n",
    "print(list[10])// Exception is list index out of range\n",
    "import math\n",
    "print(math.sqrt(-1))// Exception is math domain error\n",
    "print(x)// Error is name 'x' not defined\n",
    "infile = open('switch.txt')//[Errno 2] No such file or directory: 'switch.txt'\n"
   ]
  },
  {
   "cell_type": "markdown",
   "id": "0398d812",
   "metadata": {},
   "source": [
    "Q10. The first step\n",
    "of cryptanalysis is often to build up a table of letter frequencies in the encrypted text.\n",
    "Assume that the string letters is already defined as\n",
    "'abcdefghijklmnopqrstuvwxyz'. Write a function called frequencies()\n",
    "that takes a string as its only parameter, and returns a list of integers, showing the\n",
    "number of times each character appears in the text. Your function may ignore any\n",
    "characters that are not in letters.\n",
    ">>> frequencies('The quick red fox got bored and went home.')\n",
    "[1, 1, 1, 3, 5, 1, 1, 2, 1, 0, 1, 0, 1, 2, 4, 0, 1, 2, 0, 2,\n",
    "1, 0, 1, 1, 0, 0]\n",
    ">>> frequencies('apple')"
   ]
  },
  {
   "cell_type": "code",
   "execution_count": 34,
   "id": "40834671",
   "metadata": {},
   "outputs": [
    {
     "name": "stdout",
     "output_type": "stream",
     "text": [
      "[1, 1, 1, 3, 5, 1, 1, 2, 1, 0, 1, 0, 1, 2, 4, 0, 1, 2, 0, 2, 1, 0, 1, 1, 0, 0]\n",
      "[1, 0, 0, 0, 1, 0, 0, 0, 0, 0, 0, 1, 0, 0, 0, 2, 0, 0, 0, 0, 0, 0, 0, 0, 0, 0]\n"
     ]
    }
   ],
   "source": [
    "def frequencies(message):\n",
    "    letters='abcdefghijklmnopqrstuvwxyz'\n",
    "    encryption=[]\n",
    "    for char in letters:\n",
    "        if(char in message):\n",
    "            encryption.append(message.count(char))\n",
    "        else:\n",
    "            encryption.append(0)\n",
    "    print(encryption)\n",
    "frequencies('The quick red fox got bored and went home.')\n",
    "frequencies (\"apple\")"
   ]
  }
 ],
 "metadata": {
  "kernelspec": {
   "display_name": "Python 3 (ipykernel)",
   "language": "python",
   "name": "python3"
  },
  "language_info": {
   "codemirror_mode": {
    "name": "ipython",
    "version": 3
   },
   "file_extension": ".py",
   "mimetype": "text/x-python",
   "name": "python",
   "nbconvert_exporter": "python",
   "pygments_lexer": "ipython3",
   "version": "3.10.9"
  }
 },
 "nbformat": 4,
 "nbformat_minor": 5
}
